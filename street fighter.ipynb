{
 "cells": [
  {
   "cell_type": "code",
   "execution_count": null,
   "id": "6bf72180",
   "metadata": {},
   "outputs": [],
   "source": [
    "!pip install stable-baselines[mpi]==2.10.0\n",
    "!pip install gym-retro\n",
    "!pip install tqdm\n",
    "from tqdm import tqdm\n",
    "import time\n",
    "import retro\n",
    "from stable_baselines.common.policies import MlpPolicy,MlpLstmPolicy, MlpLnLstmPolicy, CnnLnLstmPolicy, CnnPolicy, CnnLstmPolicy\n",
    "from stable_baselines.common.vec_env import SubprocVecEnv, DummyVecEnv\n",
    "from stable_baselines import PPO2, A2C\n",
    "from google.colab import drive\n",
    "drive.mount('/gdrive')\n",
    "!python -m retro.import /gdrive/user/srijan"
   ]
  },
  {
   "cell_type": "code",
   "execution_count": null,
   "id": "e19420dd",
   "metadata": {},
   "outputs": [],
   "source": [
    "#Create and Train Model on SFII Engine\n",
    "gamename = 'StreetFighterIISpecialChampionEdition-Genesis'\n",
    "modelname = 'Fighter_a2c_pt2' #whatever name you want to give it\n",
    "env = DummyVecEnv([lambda: retro.make(gamename ,state='Champion.Level1.RyuVsGuile')])\n",
    "model = A2C(CnnPolicy,env,n_steps=128, verbose=1)\n",
    "#model = A2C.load('/gdrive/My Drive/ROMS/Fighter_a2c_pt2.zip')\n",
    "model.set_env(env)\n",
    "model.learn(total_timesteps=1000)\n",
    "#Saves Model into\n",
    "model.save(\"/gdrive/My Drive/\"#\"Whatever Your File Name is/\" + modelname)\n",
    "env.close()"
   ]
  },
  {
   "cell_type": "code",
   "execution_count": null,
   "id": "1e23f632",
   "metadata": {},
   "outputs": [],
   "source": [
    "#Training and Saving Your Model\n",
    "#Use whatever you called your states without the .state extension\n",
    "sts = ['RyuVsGuile','RyuVsBlanka','RyuVsRyu','RyuVsKen','RyuVsChunLi','RyuVsZangief','RyuVsDhalsim','RyuVsHonda','RyuVsBalrog','RyuVsVega','RyuVsSagat','RyuVsBison']\n",
    "start_time = time.time()\n",
    "for st in tqdm(sts, desc='Main Loop'):\n",
    "  print(st)\n",
    "  env = DummyVecEnv([lambda: retro.make('StreetFighterIISpecialChampionEdition-Genesis', state=st, scenario='scenario')])\n",
    "  model.set_env(env)\n",
    "  model.learn(total_timesteps=500000)\n",
    "  model.save(modelname)\n",
    "  env.close()\n",
    "end_time = time.time() - start_time\n",
    "print(f'\\n The Training Took {end_time} seconds')"
   ]
  },
  {
   "cell_type": "code",
   "execution_count": null,
   "id": "30dbcaab",
   "metadata": {},
   "outputs": [],
   "source": [
    " en= DummyVecEnv([lambda: retro.make('StreetFighterIISpecialChampionEdition-Genesis',state='RyuVsHonda-Easy', record='/gdrive/My Drive/'#\"Wherever you put file\")])\n",
    "model = A2C.load(modelname)\n",
    "model.set_env(env)\n",
    "obs = env.reset()\n",
    "done = False\n",
    "reward = 0\n",
    "while not done:\n",
    "  actions, _ = model.predict(obs)\n",
    "  obs, rew, done, info = env.step(actions)\n",
    "  reward += rew\n",
    "print(reward)\n",
    "### Convert BK2 to MP4 File\n",
    "!python /usr/local/lib/python3.6/dist-packages/retro/scripts/playback_movie.py \"/gdrive/My Drive/Level16.RyuVsHonda-Easy-000000.bk2\""
   ]
  }
 ],
 "metadata": {
  "kernelspec": {
   "display_name": "Python 3 (ipykernel)",
   "language": "python",
   "name": "python3"
  },
  "language_info": {
   "codemirror_mode": {
    "name": "ipython",
    "version": 3
   },
   "file_extension": ".py",
   "mimetype": "text/x-python",
   "name": "python",
   "nbconvert_exporter": "python",
   "pygments_lexer": "ipython3",
   "version": "3.11.4"
  }
 },
 "nbformat": 4,
 "nbformat_minor": 5
}
